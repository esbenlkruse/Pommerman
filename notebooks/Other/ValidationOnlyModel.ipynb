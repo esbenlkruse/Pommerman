{
  "nbformat": 4,
  "nbformat_minor": 0,
  "metadata": {
    "colab": {
      "name": "Kopi af validation_2_simpleAgent(was balbi)",
      "version": "0.3.2",
      "provenance": [],
      "collapsed_sections": []
    },
    "kernelspec": {
      "name": "python3",
      "display_name": "Python 3"
    },
    "accelerator": "GPU"
  },
  "cells": [
    {
      "metadata": {
        "id": "_Spi72qNrpZp",
        "colab_type": "text"
      },
      "cell_type": "markdown",
      "source": [
        "# init"
      ]
    },
    {
      "metadata": {
        "id": "j42s1JgijFNo",
        "colab_type": "code",
        "outputId": "bc9020b0-6e24-4816-a18e-4fe55924d3e3",
        "colab": {
          "base_uri": "https://localhost:8080/",
          "height": 8299
        }
      },
      "cell_type": "code",
      "source": [
        "#Set up and import all libraries and utilities needed to execute the Pommerman project\n",
        "import os\n",
        "import sys\n",
        "import numpy as np\n",
        "\n",
        "#Download Pommerman enviorment from the repository\n",
        "!git clone https://github.com/esbenlkruse/Pommerman\n",
        "\n",
        "os.chdir('Pommerman')\n",
        "os.chdir('playground')\n",
        "\n",
        "!python setup.py install\n",
        "\n",
        "from os.path import exists\n",
        "from wheel.pep425tags import get_abbr_impl, get_impl_ver, get_abi_tag\n",
        "platform = '{}{}-{}'.format(get_abbr_impl(), get_impl_ver(), get_abi_tag())\n",
        "cuda_output = !ldconfig -p|grep cudart.so|sed -e 's/.*\\.\\([0-9]*\\)\\.\\([0-9]*\\)$/cu\\1\\2/'\n",
        "accelerator = cuda_output[0] if exists('/dev/nvidia0') else 'cpu'\n",
        "\n",
        "!pip install -q http://download.pytorch.org/whl/{accelerator}/torch-0.4.1-{platform}-linux_x86_64.whl torchvision\n",
        "import torch\n",
        "\n",
        "!pip install emoji\n",
        "\n",
        "# install gym\n",
        "! pip install git+https://github.com/openai/gym"
      ],
      "execution_count": 0,
      "outputs": [
        {
          "output_type": "stream",
          "text": [
            "Cloning into 'Pommerman'...\n",
            "remote: Enumerating objects: 109, done.\u001b[K\n",
            "remote: Counting objects: 100% (109/109), done.\u001b[K\n",
            "remote: Compressing objects: 100% (94/94), done.\u001b[K\n",
            "remote: Total 109 (delta 10), reused 103 (delta 9), pack-reused 0\u001b[K\n",
            "Receiving objects: 100% (109/109), 1.12 MiB | 4.31 MiB/s, done.\n",
            "Resolving deltas: 100% (10/10), done.\n",
            "running install\n",
            "running bdist_egg\n",
            "running egg_info\n",
            "creating pommerman.egg-info\n",
            "writing pommerman.egg-info/PKG-INFO\n",
            "writing dependency_links to pommerman.egg-info/dependency_links.txt\n",
            "writing entry points to pommerman.egg-info/entry_points.txt\n",
            "writing requirements to pommerman.egg-info/requires.txt\n",
            "writing top-level names to pommerman.egg-info/top_level.txt\n",
            "writing manifest file 'pommerman.egg-info/SOURCES.txt'\n",
            "reading manifest file 'pommerman.egg-info/SOURCES.txt'\n",
            "writing manifest file 'pommerman.egg-info/SOURCES.txt'\n",
            "installing library code to build/bdist.linux-x86_64/egg\n",
            "running install_lib\n",
            "running build_py\n",
            "creating build\n",
            "creating build/lib\n",
            "creating build/lib/pommerman\n",
            "copying pommerman/graphics.py -> build/lib/pommerman\n",
            "copying pommerman/forward_model.py -> build/lib/pommerman\n",
            "copying pommerman/constants.py -> build/lib/pommerman\n",
            "copying pommerman/characters.py -> build/lib/pommerman\n",
            "copying pommerman/configs.py -> build/lib/pommerman\n",
            "copying pommerman/utility.py -> build/lib/pommerman\n",
            "copying pommerman/__init__.py -> build/lib/pommerman\n",
            "creating build/lib/pommerman/runner\n",
            "copying pommerman/runner/docker_agent_runner.py -> build/lib/pommerman/runner\n",
            "copying pommerman/runner/__init__.py -> build/lib/pommerman/runner\n",
            "creating build/lib/pommerman/envs\n",
            "copying pommerman/envs/v0.py -> build/lib/pommerman/envs\n",
            "copying pommerman/envs/v2.py -> build/lib/pommerman/envs\n",
            "copying pommerman/envs/v1.py -> build/lib/pommerman/envs\n",
            "copying pommerman/envs/__init__.py -> build/lib/pommerman/envs\n",
            "creating build/lib/pommerman/helpers\n",
            "copying pommerman/helpers/__init__.py -> build/lib/pommerman/helpers\n",
            "creating build/lib/pommerman/agents\n",
            "copying pommerman/agents/docker_agent.py -> build/lib/pommerman/agents\n",
            "copying pommerman/agents/http_agent.py -> build/lib/pommerman/agents\n",
            "copying pommerman/agents/tensorforce_agent.py -> build/lib/pommerman/agents\n",
            "copying pommerman/agents/simple_agent.py -> build/lib/pommerman/agents\n",
            "copying pommerman/agents/random_agent.py -> build/lib/pommerman/agents\n",
            "copying pommerman/agents/base_agent.py -> build/lib/pommerman/agents\n",
            "copying pommerman/agents/player_agent.py -> build/lib/pommerman/agents\n",
            "copying pommerman/agents/__init__.py -> build/lib/pommerman/agents\n",
            "creating build/lib/pommerman/cli\n",
            "copying pommerman/cli/run_battle.py -> build/lib/pommerman/cli\n",
            "copying pommerman/cli/train_with_tensorforce.py -> build/lib/pommerman/cli\n",
            "copying pommerman/cli/__init__.py -> build/lib/pommerman/cli\n",
            "creating build/lib/pommerman/resources\n",
            "copying pommerman/resources/Fog.png -> build/lib/pommerman/resources\n",
            "copying pommerman/resources/Passage.png -> build/lib/pommerman/resources\n",
            "copying pommerman/resources/AgentDummy-No-Background.png -> build/lib/pommerman/resources\n",
            "copying pommerman/resources/Bomb-9.png -> build/lib/pommerman/resources\n",
            "copying pommerman/resources/X-No-Background.png -> build/lib/pommerman/resources\n",
            "copying pommerman/resources/Wood.png -> build/lib/pommerman/resources\n",
            "copying pommerman/resources/Agent3-No-Background.png -> build/lib/pommerman/resources\n",
            "copying pommerman/resources/Bomb-6.png -> build/lib/pommerman/resources\n",
            "copying pommerman/resources/Agent1.png -> build/lib/pommerman/resources\n",
            "copying pommerman/resources/AgentDummy.png -> build/lib/pommerman/resources\n",
            "copying pommerman/resources/Bomb-1.png -> build/lib/pommerman/resources\n",
            "copying pommerman/resources/Bomb-7.png -> build/lib/pommerman/resources\n",
            "copying pommerman/resources/Bomb-5.png -> build/lib/pommerman/resources\n",
            "copying pommerman/resources/Bomb-10.png -> build/lib/pommerman/resources\n",
            "copying pommerman/resources/Agent3.png -> build/lib/pommerman/resources\n",
            "copying pommerman/resources/Cousine-Regular.ttf -> build/lib/pommerman/resources\n",
            "copying pommerman/resources/Bomb-2.png -> build/lib/pommerman/resources\n",
            "copying pommerman/resources/Bomb-3.png -> build/lib/pommerman/resources\n",
            "copying pommerman/resources/Agent0-No-Background.png -> build/lib/pommerman/resources\n",
            "copying pommerman/resources/Flames.png -> build/lib/pommerman/resources\n",
            "copying pommerman/resources/Agent0.png -> build/lib/pommerman/resources\n",
            "copying pommerman/resources/Agent1-No-Background.png -> build/lib/pommerman/resources\n",
            "copying pommerman/resources/ExtraBomb.png -> build/lib/pommerman/resources\n",
            "copying pommerman/resources/Agent2.png -> build/lib/pommerman/resources\n",
            "copying pommerman/resources/Rigid.png -> build/lib/pommerman/resources\n",
            "copying pommerman/resources/Bomb.png -> build/lib/pommerman/resources\n",
            "copying pommerman/resources/IncrRange.png -> build/lib/pommerman/resources\n",
            "copying pommerman/resources/Skull.png -> build/lib/pommerman/resources\n",
            "copying pommerman/resources/Bomb-8.png -> build/lib/pommerman/resources\n",
            "copying pommerman/resources/Kick.png -> build/lib/pommerman/resources\n",
            "copying pommerman/resources/Agent2-No-Background.png -> build/lib/pommerman/resources\n",
            "copying pommerman/resources/Bomb-4.png -> build/lib/pommerman/resources\n",
            "creating build/bdist.linux-x86_64\n",
            "creating build/bdist.linux-x86_64/egg\n",
            "creating build/bdist.linux-x86_64/egg/pommerman\n",
            "copying build/lib/pommerman/graphics.py -> build/bdist.linux-x86_64/egg/pommerman\n",
            "copying build/lib/pommerman/forward_model.py -> build/bdist.linux-x86_64/egg/pommerman\n",
            "copying build/lib/pommerman/constants.py -> build/bdist.linux-x86_64/egg/pommerman\n",
            "creating build/bdist.linux-x86_64/egg/pommerman/runner\n",
            "copying build/lib/pommerman/runner/docker_agent_runner.py -> build/bdist.linux-x86_64/egg/pommerman/runner\n",
            "copying build/lib/pommerman/runner/__init__.py -> build/bdist.linux-x86_64/egg/pommerman/runner\n",
            "creating build/bdist.linux-x86_64/egg/pommerman/resources\n",
            "copying build/lib/pommerman/resources/Fog.png -> build/bdist.linux-x86_64/egg/pommerman/resources\n",
            "copying build/lib/pommerman/resources/Passage.png -> build/bdist.linux-x86_64/egg/pommerman/resources\n",
            "copying build/lib/pommerman/resources/AgentDummy-No-Background.png -> build/bdist.linux-x86_64/egg/pommerman/resources\n",
            "copying build/lib/pommerman/resources/Bomb-9.png -> build/bdist.linux-x86_64/egg/pommerman/resources\n",
            "copying build/lib/pommerman/resources/X-No-Background.png -> build/bdist.linux-x86_64/egg/pommerman/resources\n",
            "copying build/lib/pommerman/resources/Wood.png -> build/bdist.linux-x86_64/egg/pommerman/resources\n",
            "copying build/lib/pommerman/resources/Agent3-No-Background.png -> build/bdist.linux-x86_64/egg/pommerman/resources\n",
            "copying build/lib/pommerman/resources/Bomb-6.png -> build/bdist.linux-x86_64/egg/pommerman/resources\n",
            "copying build/lib/pommerman/resources/Agent1.png -> build/bdist.linux-x86_64/egg/pommerman/resources\n",
            "copying build/lib/pommerman/resources/AgentDummy.png -> build/bdist.linux-x86_64/egg/pommerman/resources\n",
            "copying build/lib/pommerman/resources/Bomb-1.png -> build/bdist.linux-x86_64/egg/pommerman/resources\n",
            "copying build/lib/pommerman/resources/Bomb-7.png -> build/bdist.linux-x86_64/egg/pommerman/resources\n",
            "copying build/lib/pommerman/resources/Bomb-5.png -> build/bdist.linux-x86_64/egg/pommerman/resources\n",
            "copying build/lib/pommerman/resources/Bomb-10.png -> build/bdist.linux-x86_64/egg/pommerman/resources\n",
            "copying build/lib/pommerman/resources/Agent3.png -> build/bdist.linux-x86_64/egg/pommerman/resources\n",
            "copying build/lib/pommerman/resources/Cousine-Regular.ttf -> build/bdist.linux-x86_64/egg/pommerman/resources\n",
            "copying build/lib/pommerman/resources/Bomb-2.png -> build/bdist.linux-x86_64/egg/pommerman/resources\n",
            "copying build/lib/pommerman/resources/Bomb-3.png -> build/bdist.linux-x86_64/egg/pommerman/resources\n",
            "copying build/lib/pommerman/resources/Agent0-No-Background.png -> build/bdist.linux-x86_64/egg/pommerman/resources\n",
            "copying build/lib/pommerman/resources/Flames.png -> build/bdist.linux-x86_64/egg/pommerman/resources\n",
            "copying build/lib/pommerman/resources/Agent0.png -> build/bdist.linux-x86_64/egg/pommerman/resources\n",
            "copying build/lib/pommerman/resources/Agent1-No-Background.png -> build/bdist.linux-x86_64/egg/pommerman/resources\n",
            "copying build/lib/pommerman/resources/ExtraBomb.png -> build/bdist.linux-x86_64/egg/pommerman/resources\n",
            "copying build/lib/pommerman/resources/Agent2.png -> build/bdist.linux-x86_64/egg/pommerman/resources\n",
            "copying build/lib/pommerman/resources/Rigid.png -> build/bdist.linux-x86_64/egg/pommerman/resources\n",
            "copying build/lib/pommerman/resources/Bomb.png -> build/bdist.linux-x86_64/egg/pommerman/resources\n",
            "copying build/lib/pommerman/resources/IncrRange.png -> build/bdist.linux-x86_64/egg/pommerman/resources\n",
            "copying build/lib/pommerman/resources/Skull.png -> build/bdist.linux-x86_64/egg/pommerman/resources\n",
            "copying build/lib/pommerman/resources/Bomb-8.png -> build/bdist.linux-x86_64/egg/pommerman/resources\n",
            "copying build/lib/pommerman/resources/Kick.png -> build/bdist.linux-x86_64/egg/pommerman/resources\n",
            "copying build/lib/pommerman/resources/Agent2-No-Background.png -> build/bdist.linux-x86_64/egg/pommerman/resources\n",
            "copying build/lib/pommerman/resources/Bomb-4.png -> build/bdist.linux-x86_64/egg/pommerman/resources\n",
            "copying build/lib/pommerman/characters.py -> build/bdist.linux-x86_64/egg/pommerman\n",
            "creating build/bdist.linux-x86_64/egg/pommerman/envs\n",
            "copying build/lib/pommerman/envs/v0.py -> build/bdist.linux-x86_64/egg/pommerman/envs\n",
            "copying build/lib/pommerman/envs/v2.py -> build/bdist.linux-x86_64/egg/pommerman/envs\n",
            "copying build/lib/pommerman/envs/v1.py -> build/bdist.linux-x86_64/egg/pommerman/envs\n",
            "copying build/lib/pommerman/envs/__init__.py -> build/bdist.linux-x86_64/egg/pommerman/envs\n",
            "copying build/lib/pommerman/configs.py -> build/bdist.linux-x86_64/egg/pommerman\n",
            "creating build/bdist.linux-x86_64/egg/pommerman/helpers\n",
            "copying build/lib/pommerman/helpers/__init__.py -> build/bdist.linux-x86_64/egg/pommerman/helpers\n",
            "copying build/lib/pommerman/utility.py -> build/bdist.linux-x86_64/egg/pommerman\n",
            "creating build/bdist.linux-x86_64/egg/pommerman/agents\n",
            "copying build/lib/pommerman/agents/docker_agent.py -> build/bdist.linux-x86_64/egg/pommerman/agents\n",
            "copying build/lib/pommerman/agents/http_agent.py -> build/bdist.linux-x86_64/egg/pommerman/agents\n",
            "copying build/lib/pommerman/agents/tensorforce_agent.py -> build/bdist.linux-x86_64/egg/pommerman/agents\n",
            "copying build/lib/pommerman/agents/simple_agent.py -> build/bdist.linux-x86_64/egg/pommerman/agents\n",
            "copying build/lib/pommerman/agents/random_agent.py -> build/bdist.linux-x86_64/egg/pommerman/agents\n",
            "copying build/lib/pommerman/agents/base_agent.py -> build/bdist.linux-x86_64/egg/pommerman/agents\n",
            "copying build/lib/pommerman/agents/player_agent.py -> build/bdist.linux-x86_64/egg/pommerman/agents\n",
            "copying build/lib/pommerman/agents/__init__.py -> build/bdist.linux-x86_64/egg/pommerman/agents\n",
            "creating build/bdist.linux-x86_64/egg/pommerman/cli\n",
            "copying build/lib/pommerman/cli/run_battle.py -> build/bdist.linux-x86_64/egg/pommerman/cli\n",
            "copying build/lib/pommerman/cli/train_with_tensorforce.py -> build/bdist.linux-x86_64/egg/pommerman/cli\n",
            "copying build/lib/pommerman/cli/__init__.py -> build/bdist.linux-x86_64/egg/pommerman/cli\n",
            "copying build/lib/pommerman/__init__.py -> build/bdist.linux-x86_64/egg/pommerman\n",
            "byte-compiling build/bdist.linux-x86_64/egg/pommerman/graphics.py to graphics.cpython-36.pyc\n",
            "byte-compiling build/bdist.linux-x86_64/egg/pommerman/forward_model.py to forward_model.cpython-36.pyc\n",
            "byte-compiling build/bdist.linux-x86_64/egg/pommerman/constants.py to constants.cpython-36.pyc\n",
            "byte-compiling build/bdist.linux-x86_64/egg/pommerman/runner/docker_agent_runner.py to docker_agent_runner.cpython-36.pyc\n",
            "byte-compiling build/bdist.linux-x86_64/egg/pommerman/runner/__init__.py to __init__.cpython-36.pyc\n",
            "byte-compiling build/bdist.linux-x86_64/egg/pommerman/characters.py to characters.cpython-36.pyc\n",
            "byte-compiling build/bdist.linux-x86_64/egg/pommerman/envs/v0.py to v0.cpython-36.pyc\n",
            "byte-compiling build/bdist.linux-x86_64/egg/pommerman/envs/v2.py to v2.cpython-36.pyc\n",
            "byte-compiling build/bdist.linux-x86_64/egg/pommerman/envs/v1.py to v1.cpython-36.pyc\n",
            "byte-compiling build/bdist.linux-x86_64/egg/pommerman/envs/__init__.py to __init__.cpython-36.pyc\n",
            "byte-compiling build/bdist.linux-x86_64/egg/pommerman/configs.py to configs.cpython-36.pyc\n",
            "byte-compiling build/bdist.linux-x86_64/egg/pommerman/helpers/__init__.py to __init__.cpython-36.pyc\n",
            "byte-compiling build/bdist.linux-x86_64/egg/pommerman/utility.py to utility.cpython-36.pyc\n",
            "byte-compiling build/bdist.linux-x86_64/egg/pommerman/agents/docker_agent.py to docker_agent.cpython-36.pyc\n",
            "byte-compiling build/bdist.linux-x86_64/egg/pommerman/agents/http_agent.py to http_agent.cpython-36.pyc\n",
            "byte-compiling build/bdist.linux-x86_64/egg/pommerman/agents/tensorforce_agent.py to tensorforce_agent.cpython-36.pyc\n",
            "byte-compiling build/bdist.linux-x86_64/egg/pommerman/agents/simple_agent.py to simple_agent.cpython-36.pyc\n",
            "byte-compiling build/bdist.linux-x86_64/egg/pommerman/agents/random_agent.py to random_agent.cpython-36.pyc\n",
            "byte-compiling build/bdist.linux-x86_64/egg/pommerman/agents/base_agent.py to base_agent.cpython-36.pyc\n",
            "byte-compiling build/bdist.linux-x86_64/egg/pommerman/agents/player_agent.py to player_agent.cpython-36.pyc\n",
            "byte-compiling build/bdist.linux-x86_64/egg/pommerman/agents/__init__.py to __init__.cpython-36.pyc\n",
            "byte-compiling build/bdist.linux-x86_64/egg/pommerman/cli/run_battle.py to run_battle.cpython-36.pyc\n",
            "byte-compiling build/bdist.linux-x86_64/egg/pommerman/cli/train_with_tensorforce.py to train_with_tensorforce.cpython-36.pyc\n",
            "byte-compiling build/bdist.linux-x86_64/egg/pommerman/cli/__init__.py to __init__.cpython-36.pyc\n",
            "byte-compiling build/bdist.linux-x86_64/egg/pommerman/__init__.py to __init__.cpython-36.pyc\n",
            "creating build/bdist.linux-x86_64/egg/EGG-INFO\n",
            "copying pommerman.egg-info/PKG-INFO -> build/bdist.linux-x86_64/egg/EGG-INFO\n",
            "copying pommerman.egg-info/SOURCES.txt -> build/bdist.linux-x86_64/egg/EGG-INFO\n",
            "copying pommerman.egg-info/dependency_links.txt -> build/bdist.linux-x86_64/egg/EGG-INFO\n",
            "copying pommerman.egg-info/entry_points.txt -> build/bdist.linux-x86_64/egg/EGG-INFO\n",
            "copying pommerman.egg-info/not-zip-safe -> build/bdist.linux-x86_64/egg/EGG-INFO\n",
            "copying pommerman.egg-info/requires.txt -> build/bdist.linux-x86_64/egg/EGG-INFO\n",
            "copying pommerman.egg-info/top_level.txt -> build/bdist.linux-x86_64/egg/EGG-INFO\n",
            "creating dist\n",
            "creating 'dist/pommerman-0.2.0-py3.6.egg' and adding 'build/bdist.linux-x86_64/egg' to it\n",
            "removing 'build/bdist.linux-x86_64/egg' (and everything under it)\n",
            "Processing pommerman-0.2.0-py3.6.egg\n",
            "creating /usr/local/lib/python3.6/dist-packages/pommerman-0.2.0-py3.6.egg\n",
            "Extracting pommerman-0.2.0-py3.6.egg to /usr/local/lib/python3.6/dist-packages\n",
            "Adding pommerman 0.2.0 to easy-install.pth file\n",
            "Installing pom_battle script to /usr/local/bin\n",
            "Installing pom_tf_battle script to /usr/local/bin\n",
            "\n",
            "Installed /usr/local/lib/python3.6/dist-packages/pommerman-0.2.0-py3.6.egg\n",
            "Processing dependencies for pommerman==0.2.0\n",
            "Searching for pylint~=1.9.2\n",
            "Reading https://pypi.org/simple/pylint/\n",
            "Downloading https://files.pythonhosted.org/packages/40/5f/2ba2603512cbf48b2d5fa9c3ed494d61bef84fcf2f7a03e602cd15929727/pylint-1.9.3-py2.py3-none-any.whl#sha256=b8471105f12c73a1b9eee2bb2474080370e062a7290addd215eb34bc4dfe9fd8\n",
            "Best match: pylint 1.9.3\n",
            "Processing pylint-1.9.3-py2.py3-none-any.whl\n",
            "Installing pylint-1.9.3-py2.py3-none-any.whl to /usr/local/lib/python3.6/dist-packages\n",
            "writing requirements to /usr/local/lib/python3.6/dist-packages/pylint-1.9.3-py3.6.egg/EGG-INFO/requires.txt\n",
            "Adding pylint 1.9.3 to easy-install.pth file\n",
            "Installing pyreverse script to /usr/local/bin\n",
            "Installing symilar script to /usr/local/bin\n",
            "Installing epylint script to /usr/local/bin\n",
            "Installing pylint script to /usr/local/bin\n",
            "Installing epylint script to /usr/local/bin\n",
            "Installing pylint script to /usr/local/bin\n",
            "Installing pyreverse script to /usr/local/bin\n",
            "Installing symilar script to /usr/local/bin\n",
            "\n",
            "Installed /usr/local/lib/python3.6/dist-packages/pylint-1.9.3-py3.6.egg\n",
            "Searching for isort~=4.3.4\n",
            "Reading https://pypi.org/simple/isort/\n",
            "Downloading https://files.pythonhosted.org/packages/1f/2c/22eee714d7199ae0464beda6ad5fedec8fee6a2f7ffd1e8f1840928fe318/isort-4.3.4-py3-none-any.whl#sha256=1153601da39a25b14ddc54955dbbacbb6b2d19135386699e2ad58517953b34af\n",
            "Best match: isort 4.3.4\n",
            "Processing isort-4.3.4-py3-none-any.whl\n",
            "Installing isort-4.3.4-py3-none-any.whl to /usr/local/lib/python3.6/dist-packages\n",
            "Adding isort 4.3.4 to easy-install.pth file\n",
            "Installing isort script to /usr/local/bin\n",
            "\n",
            "Installed /usr/local/lib/python3.6/dist-packages/isort-4.3.4-py3.6.egg\n",
            "Searching for astroid~=1.6\n",
            "Reading https://pypi.org/simple/astroid/\n",
            "Downloading https://files.pythonhosted.org/packages/0e/9b/18b08991c8c6aaa827faf394f4468b8fee41db1f73aa5157f9f5fb2e69c3/astroid-1.6.5-py2.py3-none-any.whl#sha256=0ef2bf9f07c3150929b25e8e61b5198c27b0dca195e156f0e4d5bdd89185ca1a\n",
            "Best match: astroid 1.6.5\n",
            "Processing astroid-1.6.5-py2.py3-none-any.whl\n",
            "Installing astroid-1.6.5-py2.py3-none-any.whl to /usr/local/lib/python3.6/dist-packages\n",
            "writing requirements to /usr/local/lib/python3.6/dist-packages/astroid-1.6.5-py3.6.egg/EGG-INFO/requires.txt\n",
            "Adding astroid 1.6.5 to easy-install.pth file\n",
            "\n",
            "Installed /usr/local/lib/python3.6/dist-packages/astroid-1.6.5-py3.6.egg\n",
            "Searching for jsonmerge~=1.5.1\n",
            "Reading https://pypi.org/simple/jsonmerge/\n",
            "Downloading https://files.pythonhosted.org/packages/e5/d8/f06bd65469b25010ff4b924fbd09a8f2a849325cbce947f56516858df17e/jsonmerge-1.5.2.tar.gz#sha256=c05229545d55c1bbfdb3fa11c7f8a1c9868c713af209059ac48e7d86fa9c6a1f\n",
            "Best match: jsonmerge 1.5.2\n",
            "Processing jsonmerge-1.5.2.tar.gz\n",
            "Writing /tmp/easy_install-56fo8y4v/jsonmerge-1.5.2/setup.cfg\n",
            "Running jsonmerge-1.5.2/setup.py -q bdist_egg --dist-dir /tmp/easy_install-56fo8y4v/jsonmerge-1.5.2/egg-dist-tmp-mebd1vzm\n",
            "zip_safe flag not set; analyzing archive contents...\n",
            "Moving jsonmerge-1.5.2-py3.6.egg to /usr/local/lib/python3.6/dist-packages\n",
            "Adding jsonmerge 1.5.2 to easy-install.pth file\n",
            "\n",
            "Installed /usr/local/lib/python3.6/dist-packages/jsonmerge-1.5.2-py3.6.egg\n",
            "Searching for Flask~=0.12\n",
            "Reading https://pypi.org/simple/Flask/\n",
            "Downloading https://files.pythonhosted.org/packages/2e/48/f1936dadac2326b3d73f2fe0a964a87d16be16eb9d7fc56f09c1bea3d17c/Flask-0.12.4-py2.py3-none-any.whl#sha256=6c02dbaa5a9ef790d8219bdced392e2d549c10cd5a5ba4b6aa65126b2271af29\n",
            "Best match: Flask 0.12.4\n",
            "Processing Flask-0.12.4-py2.py3-none-any.whl\n",
            "Installing Flask-0.12.4-py2.py3-none-any.whl to /usr/local/lib/python3.6/dist-packages\n",
            "writing requirements to /usr/local/lib/python3.6/dist-packages/Flask-0.12.4-py3.6.egg/EGG-INFO/requires.txt\n",
            "Adding Flask 0.12.4 to easy-install.pth file\n",
            "Installing flask script to /usr/local/bin\n",
            "\n",
            "Installed /usr/local/lib/python3.6/dist-packages/Flask-0.12.4-py3.6.egg\n",
            "Searching for ruamel.yaml~=0.15\n",
            "Reading https://pypi.org/simple/ruamel.yaml/\n",
            "Downloading https://files.pythonhosted.org/packages/58/23/72ded512fa25c9f09f5357f915ad58d32eccf99ee2321f38c5d757c8109b/ruamel.yaml-0.15.81-cp36-cp36m-manylinux1_x86_64.whl#sha256=c32261177f6f78a706fc850b3c7537ec9d3c56bb951801c7da2a1743388a8f22\n",
            "Best match: ruamel.yaml 0.15.81\n",
            "Processing ruamel.yaml-0.15.81-cp36-cp36m-manylinux1_x86_64.whl\n",
            "Installing ruamel.yaml-0.15.81-cp36-cp36m-manylinux1_x86_64.whl to /usr/local/lib/python3.6/dist-packages\n",
            "writing requirements to /usr/local/lib/python3.6/dist-packages/ruamel.yaml-0.15.81-py3.6-linux-x86_64.egg/EGG-INFO/requires.txt\n",
            "Adding ruamel.yaml 0.15.81 to easy-install.pth file\n",
            "\n",
            "Installed /usr/local/lib/python3.6/dist-packages/ruamel.yaml-0.15.81-py3.6-linux-x86_64.egg\n",
            "Searching for Pillow~=5.0\n",
            "Reading https://pypi.org/simple/Pillow/\n",
            "Downloading https://files.pythonhosted.org/packages/62/94/5430ebaa83f91cc7a9f687ff5238e26164a779cca2ef9903232268b0a318/Pillow-5.3.0-cp36-cp36m-manylinux1_x86_64.whl#sha256=987e1c94a33c93d9b209315bfda9faa54b8edfce6438a1e93ae866ba20de5956\n",
            "Best match: Pillow 5.3.0\n",
            "Processing Pillow-5.3.0-cp36-cp36m-manylinux1_x86_64.whl\n",
            "Installing Pillow-5.3.0-cp36-cp36m-manylinux1_x86_64.whl to /usr/local/lib/python3.6/dist-packages\n",
            "Adding Pillow 5.3.0 to easy-install.pth file\n",
            "\n",
            "Installed /usr/local/lib/python3.6/dist-packages/Pillow-5.3.0-py3.6-linux-x86_64.egg\n",
            "Searching for gym~=0.10\n",
            "Reading https://pypi.org/simple/gym/\n",
            "Downloading https://files.pythonhosted.org/packages/d4/22/4ff09745ade385ffe707fb5f053548f0f6a6e7d5e98a2b9d6c07f5b931a7/gym-0.10.9.tar.gz#sha256=001f8c50997aad067d7dd6570f1f1a08f004d056292caf9a5c48cfebbdefa2c5\n",
            "Best match: gym 0.10.9\n",
            "Processing gym-0.10.9.tar.gz\n",
            "Writing /tmp/easy_install-abtxa5u3/gym-0.10.9/setup.cfg\n",
            "Running gym-0.10.9/setup.py -q bdist_egg --dist-dir /tmp/easy_install-abtxa5u3/gym-0.10.9/egg-dist-tmp-jqlcb9fv\n",
            "  File \"build/bdist.linux-x86_64/egg/gym/utils/reraise_impl_py2.py\", line 2\n",
            "    raise e.__class__, e, traceback\n",
            "                     ^\n",
            "SyntaxError: invalid syntax\n",
            "\n",
            "creating /usr/local/lib/python3.6/dist-packages/gym-0.10.9-py3.6.egg\n",
            "Extracting gym-0.10.9-py3.6.egg to /usr/local/lib/python3.6/dist-packages\n",
            "  File \"/usr/local/lib/python3.6/dist-packages/gym-0.10.9-py3.6.egg/gym/utils/reraise_impl_py2.py\", line 2\n",
            "    raise e.__class__, e, traceback\n",
            "                     ^\n",
            "SyntaxError: invalid syntax\n",
            "\n",
            "Adding gym 0.10.9 to easy-install.pth file\n",
            "\n",
            "Installed /usr/local/lib/python3.6/dist-packages/gym-0.10.9-py3.6.egg\n",
            "Searching for docker~=3.1\n",
            "Reading https://pypi.org/simple/docker/\n",
            "Downloading https://files.pythonhosted.org/packages/e1/58/938fbc7acd98302ca4872f5eab8ab811498e342ab5aec0c1609f22e0aeda/docker-3.6.0-py2.py3-none-any.whl#sha256=666611862edded75f6049893f779bff629fdcd4cd21ccf01d648626e709adb13\n",
            "Best match: docker 3.6.0\n",
            "Processing docker-3.6.0-py2.py3-none-any.whl\n",
            "Installing docker-3.6.0-py2.py3-none-any.whl to /usr/local/lib/python3.6/dist-packages\n",
            "writing requirements to /usr/local/lib/python3.6/dist-packages/docker-3.6.0-py3.6.egg/EGG-INFO/requires.txt\n",
            "Adding docker 3.6.0 to easy-install.pth file\n",
            "\n",
            "Installed /usr/local/lib/python3.6/dist-packages/docker-3.6.0-py3.6.egg\n",
            "Searching for mccabe\n",
            "Reading https://pypi.org/simple/mccabe/\n",
            "Downloading https://files.pythonhosted.org/packages/87/89/479dc97e18549e21354893e4ee4ef36db1d237534982482c3681ee6e7b57/mccabe-0.6.1-py2.py3-none-any.whl#sha256=ab8a6258860da4b6677da4bd2fe5dc2c659cff31b3ee4f7f5d64e79735b80d42\n",
            "Best match: mccabe 0.6.1\n",
            "Processing mccabe-0.6.1-py2.py3-none-any.whl\n",
            "Installing mccabe-0.6.1-py2.py3-none-any.whl to /usr/local/lib/python3.6/dist-packages\n",
            "Adding mccabe 0.6.1 to easy-install.pth file\n",
            "\n",
            "Installed /usr/local/lib/python3.6/dist-packages/mccabe-0.6.1-py3.6.egg\n",
            "Searching for lazy-object-proxy\n",
            "Reading https://pypi.org/simple/lazy-object-proxy/\n",
            "Downloading https://files.pythonhosted.org/packages/65/1f/2043ec33066e779905ed7e6580384425fdc7dc2ac64d6931060c75b0c5a3/lazy_object_proxy-1.3.1-cp36-cp36m-manylinux1_x86_64.whl#sha256=e34b155e36fa9da7e1b7c738ed7767fc9491a62ec6af70fe9da4a057759edc2d\n",
            "Best match: lazy-object-proxy 1.3.1\n",
            "Processing lazy_object_proxy-1.3.1-cp36-cp36m-manylinux1_x86_64.whl\n",
            "Installing lazy_object_proxy-1.3.1-cp36-cp36m-manylinux1_x86_64.whl to /usr/local/lib/python3.6/dist-packages\n",
            "Adding lazy-object-proxy 1.3.1 to easy-install.pth file\n",
            "\n",
            "Installed /usr/local/lib/python3.6/dist-packages/lazy_object_proxy-1.3.1-py3.6-linux-x86_64.egg\n",
            "Searching for itsdangerous>=0.21\n",
            "Reading https://pypi.org/simple/itsdangerous/\n",
            "Downloading https://files.pythonhosted.org/packages/76/ae/44b03b253d6fade317f32c24d100b3b35c2239807046a4c953c7b89fa49e/itsdangerous-1.1.0-py2.py3-none-any.whl#sha256=b12271b2047cb23eeb98c8b5622e2e5c5e9abd9784a153e9d8ef9cb4dd09d749\n",
            "Best match: itsdangerous 1.1.0\n",
            "Processing itsdangerous-1.1.0-py2.py3-none-any.whl\n",
            "Installing itsdangerous-1.1.0-py2.py3-none-any.whl to /usr/local/lib/python3.6/dist-packages\n",
            "Adding itsdangerous 1.1.0 to easy-install.pth file\n",
            "\n",
            "Installed /usr/local/lib/python3.6/dist-packages/itsdangerous-1.1.0-py3.6.egg\n",
            "Searching for click>=2.0\n",
            "Reading https://pypi.org/simple/click/\n",
            "Downloading https://files.pythonhosted.org/packages/fa/37/45185cb5abbc30d7257104c434fe0b07e5a195a6847506c074527aa599ec/Click-7.0-py2.py3-none-any.whl#sha256=2335065e6395b9e67ca716de5f7526736bfa6ceead690adf616d925bdc622b13\n",
            "Best match: Click 7.0\n",
            "Processing Click-7.0-py2.py3-none-any.whl\n",
            "Installing Click-7.0-py2.py3-none-any.whl to /usr/local/lib/python3.6/dist-packages\n",
            "Adding Click 7.0 to easy-install.pth file\n",
            "\n",
            "Installed /usr/local/lib/python3.6/dist-packages/Click-7.0-py3.6.egg\n",
            "Searching for pyglet>=1.2.0\n",
            "Reading https://pypi.org/simple/pyglet/\n",
            "Downloading https://files.pythonhosted.org/packages/96/3e/b1a3a39771d8452a89920b779678dbd9160634f38eee8a202c5696ed755e/pyglet-1.4.0b1-py2.py3-none-any.whl#sha256=4a8ddb659f812435ff30e3eea30b82bafaf5b215367a8ad113c4ba5eec8358b3\n",
            "Best match: pyglet 1.4.0b1\n",
            "Processing pyglet-1.4.0b1-py2.py3-none-any.whl\n",
            "Installing pyglet-1.4.0b1-py2.py3-none-any.whl to /usr/local/lib/python3.6/dist-packages\n",
            "writing requirements to /usr/local/lib/python3.6/dist-packages/pyglet-1.4.0b1-py3.6.egg/EGG-INFO/requires.txt\n",
            "Adding pyglet 1.4.0b1 to easy-install.pth file\n",
            "\n",
            "Installed /usr/local/lib/python3.6/dist-packages/pyglet-1.4.0b1-py3.6.egg\n",
            "Searching for websocket-client>=0.32.0\n",
            "Reading https://pypi.org/simple/websocket-client/\n",
            "Downloading https://files.pythonhosted.org/packages/26/2d/f749a5c82f6192d77ed061a38e02001afcba55fe8477336d26a950ab17ce/websocket_client-0.54.0-py2.py3-none-any.whl#sha256=8c8bf2d4f800c3ed952df206b18c28f7070d9e3dcbd6ca6291127574f57ee786\n",
            "Best match: websocket-client 0.54.0\n",
            "Processing websocket_client-0.54.0-py2.py3-none-any.whl\n",
            "Installing websocket_client-0.54.0-py2.py3-none-any.whl to /usr/local/lib/python3.6/dist-packages\n",
            "writing requirements to /usr/local/lib/python3.6/dist-packages/websocket_client-0.54.0-py3.6.egg/EGG-INFO/requires.txt\n",
            "Adding websocket-client 0.54.0 to easy-install.pth file\n",
            "Installing wsdump.py script to /usr/local/bin\n",
            "\n",
            "Installed /usr/local/lib/python3.6/dist-packages/websocket_client-0.54.0-py3.6.egg\n",
            "Searching for docker-pycreds>=0.3.0\n",
            "Reading https://pypi.org/simple/docker-pycreds/\n",
            "Downloading https://files.pythonhosted.org/packages/f5/e8/f6bd1eee09314e7e6dee49cbe2c5e22314ccdb38db16c9fc72d2fa80d054/docker_pycreds-0.4.0-py2.py3-none-any.whl#sha256=7266112468627868005106ec19cd0d722702d2b7d5912a28e19b826c3d37af49\n",
            "Best match: docker-pycreds 0.4.0\n",
            "Processing docker_pycreds-0.4.0-py2.py3-none-any.whl\n",
            "Installing docker_pycreds-0.4.0-py2.py3-none-any.whl to /usr/local/lib/python3.6/dist-packages\n",
            "writing requirements to /usr/local/lib/python3.6/dist-packages/docker_pycreds-0.4.0-py3.6.egg/EGG-INFO/requires.txt\n",
            "Adding docker-pycreds 0.4.0 to easy-install.pth file\n",
            "\n",
            "Installed /usr/local/lib/python3.6/dist-packages/docker_pycreds-0.4.0-py3.6.egg\n",
            "Searching for requests==2.18.4\n",
            "Best match: requests 2.18.4\n",
            "Adding requests 2.18.4 to easy-install.pth file\n",
            "\n",
            "Using /usr/local/lib/python3.6/dist-packages\n",
            "Searching for scipy==1.1.0\n",
            "Best match: scipy 1.1.0\n",
            "Adding scipy 1.1.0 to easy-install.pth file\n",
            "\n",
            "Using /usr/local/lib/python3.6/dist-packages\n",
            "Searching for six==1.11.0\n",
            "Best match: six 1.11.0\n",
            "Adding six 1.11.0 to easy-install.pth file\n",
            "\n",
            "Using /usr/local/lib/python3.6/dist-packages\n",
            "Searching for wrapt==1.10.11\n",
            "Best match: wrapt 1.10.11\n",
            "Adding wrapt 1.10.11 to easy-install.pth file\n",
            "\n",
            "Using /usr/local/lib/python3.6/dist-packages\n",
            "Searching for jsonschema==2.6.0\n",
            "Best match: jsonschema 2.6.0\n",
            "Adding jsonschema 2.6.0 to easy-install.pth file\n",
            "Installing jsonschema script to /usr/local/bin\n",
            "\n",
            "Using /usr/local/lib/python3.6/dist-packages\n",
            "Searching for urllib3==1.22\n",
            "Best match: urllib3 1.22\n",
            "Adding urllib3 1.22 to easy-install.pth file\n",
            "\n",
            "Using /usr/local/lib/python3.6/dist-packages\n",
            "Searching for idna==2.6\n",
            "Best match: idna 2.6\n",
            "Adding idna 2.6 to easy-install.pth file\n",
            "\n",
            "Using /usr/local/lib/python3.6/dist-packages\n",
            "Searching for chardet==3.0.4\n",
            "Best match: chardet 3.0.4\n",
            "Adding chardet 3.0.4 to easy-install.pth file\n",
            "Installing chardetect script to /usr/local/bin\n",
            "\n",
            "Using /usr/local/lib/python3.6/dist-packages\n",
            "Searching for certifi==2018.11.29\n",
            "Best match: certifi 2018.11.29\n",
            "Adding certifi 2018.11.29 to easy-install.pth file\n",
            "\n",
            "Using /usr/local/lib/python3.6/dist-packages\n",
            "Searching for Werkzeug==0.14.1\n",
            "Best match: Werkzeug 0.14.1\n",
            "Adding Werkzeug 0.14.1 to easy-install.pth file\n",
            "\n",
            "Using /usr/local/lib/python3.6/dist-packages\n",
            "Searching for Jinja2==2.10\n",
            "Best match: Jinja2 2.10\n",
            "Adding Jinja2 2.10 to easy-install.pth file\n",
            "\n",
            "Using /usr/local/lib/python3.6/dist-packages\n",
            "Searching for numpy==1.14.6\n",
            "Best match: numpy 1.14.6\n",
            "Adding numpy 1.14.6 to easy-install.pth file\n",
            "\n",
            "Using /usr/local/lib/python3.6/dist-packages\n",
            "Searching for MarkupSafe==1.1.0\n",
            "Best match: MarkupSafe 1.1.0\n",
            "Adding MarkupSafe 1.1.0 to easy-install.pth file\n",
            "\n",
            "Using /usr/local/lib/python3.6/dist-packages\n",
            "Searching for future==0.16.0\n",
            "Best match: future 0.16.0\n",
            "Adding future 0.16.0 to easy-install.pth file\n",
            "Installing futurize script to /usr/local/bin\n",
            "Installing pasteurize script to /usr/local/bin\n",
            "\n",
            "Using /usr/local/lib/python3.6/dist-packages\n",
            "Finished processing dependencies for pommerman==0.2.0\n",
            "tcmalloc: large alloc 1073750016 bytes == 0x58e2a000 @  0x7f0fede992a4 0x591a07 0x5b5d56 0x502e9a 0x506859 0x502209 0x502f3d 0x506859 0x504c28 0x502540 0x502f3d 0x506859 0x504c28 0x502540 0x502f3d 0x506859 0x504c28 0x502540 0x502f3d 0x507641 0x502209 0x502f3d 0x506859 0x504c28 0x502540 0x502f3d 0x507641 0x504c28 0x502540 0x502f3d 0x507641\n",
            "Collecting emoji\n",
            "  Downloading https://files.pythonhosted.org/packages/9c/fb/7586e11ff9205c9be9d11d376fcb6990ec4bdfae0a35663fb1ada7e3c10f/emoji-0.5.1-py3-none-any.whl\n",
            "Installing collected packages: emoji\n",
            "Successfully installed emoji-0.5.1\n",
            "Requirement already satisfied: gym in /usr/local/lib/python3.6/dist-packages/gym-0.10.9-py3.6.egg (0.10.9)\n",
            "Requirement already satisfied: scipy in /usr/local/lib/python3.6/dist-packages (from gym) (1.1.0)\n",
            "Requirement already satisfied: numpy>=1.10.4 in /usr/local/lib/python3.6/dist-packages (from gym) (1.14.6)\n",
            "Requirement already satisfied: requests>=2.0 in /usr/local/lib/python3.6/dist-packages (from gym) (2.18.4)\n",
            "Requirement already satisfied: six in /usr/local/lib/python3.6/dist-packages (from gym) (1.11.0)\n",
            "Requirement already satisfied: pyglet>=1.2.0 in /usr/local/lib/python3.6/dist-packages/pyglet-1.4.0b1-py3.6.egg (from gym) (1.4.0b1)\n",
            "Requirement already satisfied: urllib3<1.23,>=1.21.1 in /usr/local/lib/python3.6/dist-packages (from requests>=2.0->gym) (1.22)\n",
            "Requirement already satisfied: certifi>=2017.4.17 in /usr/local/lib/python3.6/dist-packages (from requests>=2.0->gym) (2018.11.29)\n",
            "Requirement already satisfied: idna<2.7,>=2.5 in /usr/local/lib/python3.6/dist-packages (from requests>=2.0->gym) (2.6)\n",
            "Requirement already satisfied: chardet<3.1.0,>=3.0.2 in /usr/local/lib/python3.6/dist-packages (from requests>=2.0->gym) (3.0.4)\n",
            "Requirement already satisfied: future in /usr/local/lib/python3.6/dist-packages (from pyglet>=1.2.0->gym) (0.16.0)\n",
            "Collecting git+https://github.com/openai/gym\n",
            "  Cloning https://github.com/openai/gym to /tmp/pip-req-build-sejlhoqt\n",
            "Requirement already satisfied (use --upgrade to upgrade): gym==0.10.9 from git+https://github.com/openai/gym in /usr/local/lib/python3.6/dist-packages/gym-0.10.9-py3.6.egg\n",
            "Requirement already satisfied: scipy in /usr/local/lib/python3.6/dist-packages (from gym==0.10.9) (1.1.0)\n",
            "Requirement already satisfied: numpy>=1.10.4 in /usr/local/lib/python3.6/dist-packages (from gym==0.10.9) (1.14.6)\n",
            "Requirement already satisfied: requests>=2.0 in /usr/local/lib/python3.6/dist-packages (from gym==0.10.9) (2.18.4)\n",
            "Requirement already satisfied: six in /usr/local/lib/python3.6/dist-packages (from gym==0.10.9) (1.11.0)\n",
            "Requirement already satisfied: pyglet>=1.2.0 in /usr/local/lib/python3.6/dist-packages/pyglet-1.4.0b1-py3.6.egg (from gym==0.10.9) (1.4.0b1)\n",
            "Requirement already satisfied: urllib3<1.23,>=1.21.1 in /usr/local/lib/python3.6/dist-packages (from requests>=2.0->gym==0.10.9) (1.22)\n",
            "Requirement already satisfied: idna<2.7,>=2.5 in /usr/local/lib/python3.6/dist-packages (from requests>=2.0->gym==0.10.9) (2.6)\n",
            "Requirement already satisfied: chardet<3.1.0,>=3.0.2 in /usr/local/lib/python3.6/dist-packages (from requests>=2.0->gym==0.10.9) (3.0.4)\n",
            "Requirement already satisfied: certifi>=2017.4.17 in /usr/local/lib/python3.6/dist-packages (from requests>=2.0->gym==0.10.9) (2018.11.29)\n",
            "Requirement already satisfied: future in /usr/local/lib/python3.6/dist-packages (from pyglet>=1.2.0->gym==0.10.9) (0.16.0)\n",
            "Building wheels for collected packages: gym\n",
            "  Running setup.py bdist_wheel for gym ... \u001b[?25l-\b \b\\\b \b|\b \b/\b \bdone\n",
            "\u001b[?25h  Stored in directory: /tmp/pip-ephem-wheel-cache-dm7pguqg/wheels/d5/72/8b/930cb346bdca1819ddcfc8f0325276ea09c92c3005f6c51a54\n",
            "Successfully built gym\n"
          ],
          "name": "stdout"
        }
      ]
    },
    {
      "metadata": {
        "id": "rr2VcLfAOcDh",
        "colab_type": "code",
        "outputId": "865014a7-a5ef-4385-ccc9-125ad699d861",
        "colab": {
          "base_uri": "https://localhost:8080/",
          "height": 139
        }
      },
      "cell_type": "code",
      "source": [
        "try: \n",
        "  import gym\n",
        "  !pom_battle\n",
        "except ImportError:\n",
        "    print(\"Please restart and run all.\")"
      ],
      "execution_count": 0,
      "outputs": [
        {
          "output_type": "stream",
          "text": [
            "Import error GL! You will not be able to render --> Library \"GLU\" not found.\n",
            "/usr/local/lib/python3.6/dist-packages/gym-0.10.9-py3.6.egg/gym/envs/registration.py:14: PkgResourcesDeprecationWarning: Parameters to load are deprecated.  Call .resolve and .require separately.\n",
            "  result = entry_point.load(False)\n",
            "Starting the Game.\n",
            "Final Result:  {'result': <Result.Tie: 2>}\n",
            "Game Time:  2.694065809249878\n"
          ],
          "name": "stdout"
        }
      ]
    },
    {
      "metadata": {
        "id": "YUzAcJhS03oW",
        "colab_type": "text"
      },
      "cell_type": "markdown",
      "source": [
        "# CODE\n",
        "\n",
        "This notebook demonstrates how to train Pommerman agents. Please let us know at support@pommerman.com if you run into any issues."
      ]
    },
    {
      "metadata": {
        "id": "pAQTcpej03oY",
        "colab_type": "code",
        "outputId": "e0697902-41c4-4d52-9183-f77100ba3dc4",
        "colab": {
          "base_uri": "https://localhost:8080/",
          "height": 51
        }
      },
      "cell_type": "code",
      "source": [
        "from pommerman.agents import SimpleAgent, RandomAgent, PlayerAgent, BaseAgent\n",
        "from pommerman.configs import ffa_v0_fast_env\n",
        "from pommerman.envs.v0 import Pomme\n",
        "from pommerman.characters import Bomber\n",
        "from pommerman import utility\n",
        "\n",
        "%matplotlib inline\n",
        "import matplotlib.pyplot as plt\n",
        "import numpy as np\n",
        "import torch\n",
        "import torch.nn as nn\n",
        "import torch.optim as optim\n",
        "import torch.nn.functional as F\n",
        "import gym\n",
        "\n",
        "# Instantiate the environment\n",
        "config = ffa_v0_fast_env()\n",
        "env = Pomme(**config[\"env_kwargs\"])\n",
        "\n",
        "#CUDA\n",
        "use_cuda = torch.cuda.is_available()\n",
        "#use_cuda = False\n",
        "\n",
        "device = torch.device(\"cuda:0\" if use_cuda else \"cpu\")\n",
        "print(\"Using device:\", device)"
      ],
      "execution_count": 0,
      "outputs": [
        {
          "output_type": "stream",
          "text": [
            "Import error GL! You will not be able to render --> Library \"GLU\" not found.\n",
            "Using device: cuda:0\n"
          ],
          "name": "stdout"
        }
      ]
    },
    {
      "metadata": {
        "id": "D240RNvF-bET",
        "colab_type": "text"
      },
      "cell_type": "markdown",
      "source": [
        "## Load init game state"
      ]
    },
    {
      "metadata": {
        "id": "ECV5YGmb-aK8",
        "colab_type": "code",
        "outputId": "4fd3e0de-3ea8-4ddf-88e2-573dca64dbe1",
        "colab": {
          "base_uri": "https://localhost:8080/",
          "height": 34
        }
      },
      "cell_type": "code",
      "source": [
        "% rm \"initGameState.json\""
      ],
      "execution_count": 0,
      "outputs": [
        {
          "output_type": "stream",
          "text": [
            "rm: cannot remove 'initGameState.json': No such file or directory\n"
          ],
          "name": "stdout"
        }
      ]
    },
    {
      "metadata": {
        "id": "oNjGMkha1-Wy",
        "colab_type": "code",
        "outputId": "dadaa746-e6a6-4d94-a40d-b1b36dedcb65",
        "colab": {
          "resources": {
            "http://localhost:8080/nbextensions/google.colab/files.js": {
              "data": "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",
              "ok": true,
              "headers": [
                [
                  "content-type",
                  "application/javascript"
                ]
              ],
              "status": 200,
              "status_text": ""
            }
          },
          "base_uri": "https://localhost:8080/",
          "height": 72
        }
      },
      "cell_type": "code",
      "source": [
        "from google.colab import files\n",
        "import io\n",
        "uploaded = files.upload()"
      ],
      "execution_count": 0,
      "outputs": [
        {
          "output_type": "display_data",
          "data": {
            "text/html": [
              "\n",
              "     <input type=\"file\" id=\"files-3af495e3-c464-4b53-a6e1-6a5236d02512\" name=\"files[]\" multiple disabled />\n",
              "     <output id=\"result-3af495e3-c464-4b53-a6e1-6a5236d02512\">\n",
              "      Upload widget is only available when the cell has been executed in the\n",
              "      current browser session. Please rerun this cell to enable.\n",
              "      </output>\n",
              "      <script src=\"/nbextensions/google.colab/files.js\"></script> "
            ],
            "text/plain": [
              "<IPython.core.display.HTML object>"
            ]
          },
          "metadata": {
            "tags": []
          }
        },
        {
          "output_type": "stream",
          "text": [
            "Saving initGameState.json to initGameState.json\n"
          ],
          "name": "stdout"
        }
      ]
    },
    {
      "metadata": {
        "id": "5Zjju_l8ESFY",
        "colab_type": "code",
        "colab": {}
      },
      "cell_type": "code",
      "source": [
        "class QNetwork(nn.Module):\n",
        "    \"\"\"Q-network\"\"\"\n",
        "\n",
        "    def __init__(self, n_inputs, n_hidden, n_outputs, learning_rate):\n",
        "        super(QNetwork, self).__init__()\n",
        "        # network\n",
        "        self.out = nn.Linear(n_inputs, n_outputs, bias=False)\n",
        "        torch.nn.init.uniform_(self.out.weight, 0, 0.01)\n",
        "        # training\n",
        "        self.optimizer = optim.SGD(self.parameters(), lr=learning_rate)\n",
        "        \n",
        "    def forward(self, x):\n",
        "        #x = self.dense(x)\n",
        "        #x = self.activation(x) #x = nn.ReLU(x)\n",
        "        x = self.out(x)\n",
        "        return x\n",
        "    \n",
        "    def loss(self, q_outputs, q_targets):\n",
        "        return torch.sum(torch.pow(q_targets - q_outputs, 2))\n",
        "def one_hot(i, l):\n",
        "    \"\"\"One-hot encoder for the states\"\"\"\n",
        "    a = np.zeros((len(i), l))\n",
        "    a[range(len(i)), i] = 1\n",
        "    return a\n",
        "  \n",
        "def check_lists(b,p,o1,o2,o3):\n",
        "    killer = 0\n",
        "    suicide = False\n",
        "\n",
        "    if(b == p):\n",
        "        suicide = True\n",
        "    if(b == o1):\n",
        "        killer += 1\n",
        "    if(b == o2):\n",
        "        killer += 1\n",
        "    if(b == o3):\n",
        "        killer += 1\n",
        "\n",
        "    return killer, suicide\n",
        "  \n",
        "\n",
        "def featurize(obs):\n",
        "    position = obs[\"position\"]\n",
        "    \n",
        "    scopeSize = 5\n",
        "    padSize = scopeSize - 1\n",
        "    \n",
        "    # Scope agent view for board\n",
        "    outOfBoundsType = 14\n",
        "    board = obs[\"board\"]\n",
        "    bPaddingSize = 11 + (padSize * 2)\n",
        "    paddedBoard = np.full((bPaddingSize, bPaddingSize), outOfBoundsType, dtype=int)\n",
        "    paddedBoard[padSize : board.shape[0] + padSize, padSize : board.shape[1] + padSize] = board\n",
        "    (r, c) = position\n",
        "    (rp, cp) = (r + padSize, c + padSize)\n",
        "\n",
        "    scopedBoard = paddedBoard[r : rp + padSize + 1, c : cp + padSize + 1].reshape(-1)\n",
        "    #print(paddedBoard[r : rp + padSize + 1, c : cp + padSize + 1])\n",
        "    \n",
        "    # Scope agent view for bomb blast strength\n",
        "    bomb_blast_strength = obs[\"bomb_blast_strength\"]\n",
        "    paddedBombBlastStrength = np.zeros((bPaddingSize, bPaddingSize), dtype=int)\n",
        "    paddedBombBlastStrength[padSize : bomb_blast_strength.shape[0] + padSize, padSize : bomb_blast_strength.shape[1] + padSize] = bomb_blast_strength\n",
        "\n",
        "    scopedBombBlastStrength = paddedBombBlastStrength[r : rp + padSize + 1, c : cp + padSize + 1].reshape(-1)\n",
        "    #print(paddedBombBlastStrength[r : rp + padSize + 1, c : cp + padSize + 1])\n",
        "    \n",
        "    \n",
        "    # Scope agent view for bomb life\n",
        "    bomb_life = obs[\"bomb_life\"]\n",
        "    paddedBombLife = np.zeros((bPaddingSize, bPaddingSize), dtype=int)\n",
        "    paddedBombLife[padSize : bomb_life.shape[0] + padSize, padSize : bomb_life.shape[1] + padSize] = bomb_life\n",
        "\n",
        "    scopedBombLife = paddedBombLife[r : rp + padSize + 1, c : cp + padSize + 1].reshape(-1)\n",
        "    #print(paddedBombLife[r : rp + padSize + 1, c : cp + padSize + 1])\n",
        "    \n",
        "    \n",
        "    ammo = [obs[\"ammo\"]]\n",
        "    blast_strength = [obs[\"blast_strength\"]]\n",
        "    can_kick =[obs[\"can_kick\"]]\n",
        "    actionlist = obs['actionlist']\n",
        "    \n",
        "    teammate = obs[\"teammate\"]\n",
        "    if teammate is not None:\n",
        "        teammate = teammate.value\n",
        "    else:\n",
        "        teammate = -1\n",
        "    teammate = [teammate]\n",
        "\n",
        "    enemies = obs[\"enemies\"]\n",
        "    enemies = [e.value for e in enemies]\n",
        "    if len(enemies) < 3:\n",
        "        enemies = enemies + [-1]*(3 - len(enemies))\n",
        "    enemies = enemies\n",
        "\n",
        "    \n",
        "    output = []\n",
        "    \n",
        "    elements = [scopedBoard, scopedBombBlastStrength, scopedBombLife, position, ammo, blast_strength, can_kick, actionlist]\n",
        "    sizes    = [15, 12, 11, 11, 11, 12, 2, 7]\n",
        "    #sizes    = [15, 32, 10, 11, 32, 12, 2, 7]\n",
        "    \n",
        "    for (i, n) in zip(elements,sizes):\n",
        "        \n",
        "        if isinstance(i, tuple) or isinstance(i, list):\n",
        "          i = [int(i[index]) for index in range(len(i))]\n",
        "        else:\n",
        "          i = i.astype(int)\n",
        "        output = np.concatenate((output, one_hot(i,n).reshape(-1)), axis=0) #.astype(np.float32)\n",
        "    out = np.array([output])\n",
        "    return out"
      ],
      "execution_count": 0,
      "outputs": []
    },
    {
      "metadata": {
        "id": "IDY9MZHaUaxf",
        "colab_type": "code",
        "colab": {}
      },
      "cell_type": "code",
      "source": [
        "class RewardsShaper:\n",
        "    def __init__(self):\n",
        "        self.bomb_list = {'own_bombs':{},'other_bombs':{}}\n",
        "        \n",
        "\n",
        "    def run(self, s, a, s1, done, info):\n",
        "        reward = 0\n",
        "        lookup = ['Stop', 'Up', 'Down', 'Left', 'Right', 'Bomb']\n",
        "        \n",
        "        a = a[3]\n",
        "        \n",
        "        p  = s[3]['position']\n",
        "        p1 = s1[3]['position']\n",
        "        o1 = s[0]['position']\n",
        "        o2 = s[1]['position']\n",
        "        o3 = s[2]['position']\n",
        "        \n",
        "        # Update bomb_list\n",
        "        if(a == 5 and s1[3]['bomb_life'][ p[0] ][ p[1] ] == 9):\n",
        "          \n",
        "          self.bomb_list['own_bombs'][str(p[0])+\",\"+str(p[1])] = {\n",
        "              'position': [ p[0], p[1] ],\n",
        "              'strength': s[3]['blast_strength']\n",
        "          }\n",
        "\n",
        "        suicide = False;\n",
        "        killer = 0\n",
        "        chopTree = 0\n",
        "        \n",
        "        # Check if own bomb goes off\n",
        "        for key, value in self.bomb_list['own_bombs'].items():\n",
        "          b = (value['position'][0], value['position'][1])\n",
        "          if(s[3]['bomb_life'][ b[0] ][ b[1] ] == 1): # Own bombs goes off at bomb_life = 1\n",
        "            \n",
        "            fire_list = []\n",
        "            blast_strength = self.bomb_list['own_bombs'][key]['strength']\n",
        "            \n",
        "            fire_list.append(b)\n",
        "            for i in range(1,blast_strength):  \n",
        "              if (b[0] - i >= 0):\n",
        "                if (s1[3]['board'][ b[0]-i ][ b[1] ] == 4):\n",
        "                    fire_list.append( (b[0]-i, b[1]) )\n",
        "              \n",
        "              if ( b[0] + i < 11):\n",
        "                if (s1[3]['board'][ b[0]+i ][ b[1] ] == 4):\n",
        "                    fire_list.append( (b[0]+i, b[1]) )\n",
        "              \n",
        "              if (b[1] - i >= 0):\n",
        "                if (s1[3]['board'][ b[0] ][ b[1]-i ] == 4):\n",
        "                    fire_list.append( (b[0], b[1]-i) )\n",
        "              \n",
        "              if (b[1] + i < 11):\n",
        "                if (s1[3]['board'][ b[0] ][ b[1]+i ] == 4):\n",
        "                    fire_list.append( (b[0], b[1]+i) )\n",
        "            \n",
        "                                 \n",
        "            del self.bomb_list['own_bombs'][key]\n",
        "            \n",
        "            if(p1 in fire_list):\n",
        "                suicide = True\n",
        "            \n",
        "            if(o1 in fire_list):\n",
        "              killer += 1\n",
        "              \n",
        "            if(o2 in fire_list):\n",
        "              killer += 1\n",
        "              \n",
        "            if(o3 in fire_list):\n",
        "              killer += 1\n",
        "            \n",
        "            \n",
        "            for pos in fire_list:\n",
        "              if(s[3]['board'][pos] == 2):\n",
        "                chopTree += 1\n",
        "                \n",
        "            break\n",
        "               \n",
        "        #print(\"killer, suicide, chopTree: \", killer, int(suicide), chopTree)\n",
        "        \n",
        "        #if(killer > 0):\n",
        "        #  print(\"K\",end=\"\")\n",
        "\n",
        "        # Reward: Lay bombs and have ammo\n",
        "        if(a == 5 and s[3][\"ammo\"]>0):\n",
        "            reward += 0.1\n",
        "            \n",
        "        # Penalty: Lay bombs and have no ammo\n",
        "        elif(a == 5 and s[3][\"ammo\"]==0):\n",
        "            reward -= 0.1\n",
        "\n",
        "        # Penalty: Go into fire! or stone, wood or off the board\n",
        "        y, x = s[3][\"position\"]\n",
        "\n",
        "        if(a==3): # action is go left\n",
        "          if(p[1]-1>=0): # is on the board\n",
        "            next_pos = s[3]['board'][ p[0] ][ p[1]-1 ]\n",
        "            if(next_pos == 4): # fire\n",
        "              reward -= 1\n",
        "            elif(next_pos == 1 or next_pos == 2): # stone or wood\n",
        "              reward -= 0.1\n",
        "          else: # on not the board\n",
        "            reward -= 0.1\n",
        "\n",
        "        elif(a==4): # action is go right\n",
        "          if(p[1]+1<11): # is on the board\n",
        "            next_pos = s[3]['board'][ p[0] ][ p[1]+1 ]\n",
        "            if(next_pos == 4): # and fire to the right\n",
        "              reward -= 1\n",
        "            elif(next_pos == 1 or next_pos == 2): # stone or wood\n",
        "              reward -= 0.1\n",
        "          else: # not the board\n",
        "            reward -= 0.1\n",
        "            \n",
        "        elif(a==2): # action is go down\n",
        "          if(p[0]-1>=0): # is on the board\n",
        "            next_pos = s[3]['board'][ p[0]-1 ][ p[1] ]\n",
        "            if(next_pos == 4): # and fire under\n",
        "              reward -= 1\n",
        "            elif(next_pos == 1 or next_pos == 2): # stone or wood\n",
        "              reward -= 0.1\n",
        "          else: # not the board\n",
        "            reward -= 0.1\n",
        "\n",
        "        elif(a==1): # action is go up\n",
        "          if(p[0]+1<11): # is on the board\n",
        "            next_pos = s[3]['board'][ p[0]+1 ][ p[1] ]\n",
        "            if(next_pos == 4): # and fire over\n",
        "              reward -= 1\n",
        "            elif(next_pos == 1 or next_pos == 2): # stone or wood\n",
        "              reward -= 0.1\n",
        "          else: # not the board\n",
        "            reward -= 0.1\n",
        "\n",
        "        # Penalty: Go into the line of fire!\n",
        "        #y, x = s[\"position\"]\n",
        "\n",
        "        # Penalty: Don't stand still for more than 10 turns\n",
        "        index = 0\n",
        "        counter = 0\n",
        "        for i in range(len(ep_actions)):\n",
        "          counter+=1\n",
        "          if(ep_actions[-counter])!=0:\n",
        "            counter-=1\n",
        "            break\n",
        "        \n",
        "        if(counter>9):\n",
        "          reward += (9-counter)\n",
        "          \n",
        "        # reward: picking up powerups!\n",
        "        powerup = 0\n",
        "        if (s1[3]['blast_strength'] > s[3]['blast_strength']):## incr range\n",
        "          powerup += 1\n",
        "          \n",
        "        if (s[3]['board'][ p1 ] == 6): ## extra bomb\n",
        "          powerup += 1\n",
        "        \n",
        "        if (s[3]['can_kick'] == False and s1[3]['can_kick'] == True):  ## can kick\n",
        "          powerup += 1\n",
        "        \n",
        "        \n",
        "        reward += 4*powerup\n",
        "        reward += -3*suicide\n",
        "        reward += 10*killer\n",
        "        reward += 2*chopTree\n",
        "        \n",
        "        #print(\"reward was:\",reward)\n",
        "        return reward, suicide"
      ],
      "execution_count": 0,
      "outputs": []
    },
    {
      "metadata": {
        "id": "qg_b4FSVmJmT",
        "colab_type": "code",
        "outputId": "520fbeb2-618b-4929-be07-61e5cea2a1f2",
        "colab": {
          "resources": {
            "http://localhost:8080/nbextensions/google.colab/files.js": {
              "data": "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",
              "ok": true,
              "headers": [
                [
                  "content-type",
                  "application/javascript"
                ]
              ],
              "status": 200,
              "status_text": ""
            }
          },
          "base_uri": "https://localhost:8080/",
          "height": 72
        }
      },
      "cell_type": "code",
      "source": [
        "from google.colab import files\n",
        "import io\n",
        "uploaded = files.upload()\n"
      ],
      "execution_count": 0,
      "outputs": [
        {
          "output_type": "display_data",
          "data": {
            "text/html": [
              "\n",
              "     <input type=\"file\" id=\"files-11f395db-26a6-4a20-9a89-e5b07369454b\" name=\"files[]\" multiple disabled />\n",
              "     <output id=\"result-11f395db-26a6-4a20-9a89-e5b07369454b\">\n",
              "      Upload widget is only available when the cell has been executed in the\n",
              "      current browser session. Please rerun this cell to enable.\n",
              "      </output>\n",
              "      <script src=\"/nbextensions/google.colab/files.js\"></script> "
            ],
            "text/plain": [
              "<IPython.core.display.HTML object>"
            ]
          },
          "metadata": {
            "tags": []
          }
        },
        {
          "output_type": "stream",
          "text": [
            "Saving QNmaster10000Filip_discount09.pth.tar to QNmaster10000Filip_discount09.pth.tar\n"
          ],
          "name": "stdout"
        }
      ]
    },
    {
      "metadata": {
        "id": "ZWp3iFdACTrJ",
        "colab_type": "code",
        "colab": {}
      },
      "cell_type": "code",
      "source": [
        "# Add own agent\n",
        "\n",
        "class OwnAgent(BaseAgent):\n",
        "    \"\"\"The Own Agent that returns random actions given an action_space.\"\"\"\n",
        "    def __init__(self, character=Bomber):\n",
        "        self._character = character\n",
        "        #self.n_inputs = 4228   #4158\n",
        "        #self.n_inputs = 3114\n",
        "        self.n_inputs = 3195\n",
        "        self.n_hidden = 846\n",
        "        self.n_inputs_size = 14\n",
        "        self.n_outputs = 6\n",
        "        self.learning_rate = 0.0005 #0.001\n",
        "        self.gamma = 0.99 # discount rate\n",
        "        self.actionlist = [6,6,6,6,6,6,6,6,6,6]\n",
        "        \n",
        "        self.qnet = QNetwork(self.n_inputs, self.n_hidden, self.n_outputs, self.learning_rate)\n",
        "        if use_cuda:\n",
        "          self.qnet.cuda()\n",
        "        buffer = io.BytesIO(uploaded[\"QNmaster10000Filip_discount09.pth.tar\"])\n",
        "        self.qnet.load_state_dict(torch.load(buffer))\n",
        "        self.master = SimpleAgent(config[\"agent\"](agent_id, config[\"game_type\"]))\n",
        "    \n",
        "    \n",
        "    def act(self, obs, action_space):\n",
        "        obs['actionlist'] = self.actionlist\n",
        "        self.Q = self.qnet(torch.from_numpy(featurize(obs)).float().to(device))\n",
        "        \n",
        "        #a = self.Q.argmax().item()\n",
        "        a = self.master.act(obs, env.action_space)\n",
        "        self.actionlist.insert(0,a)\n",
        "        del self.actionlist[10]\n",
        "        return a"
      ],
      "execution_count": 0,
      "outputs": []
    },
    {
      "metadata": {
        "id": "ZKRUQoEwB2gS",
        "colab_type": "code",
        "colab": {}
      },
      "cell_type": "code",
      "source": [
        "# Agent setup\n",
        "agents = {}\n",
        "\n",
        "agent_id=0; agents[agent_id] = SimpleAgent(config[\"agent\"](agent_id, config[\"game_type\"]))\n",
        "agent_id=1; agents[agent_id] = SimpleAgent(config[\"agent\"](agent_id, config[\"game_type\"]))  \n",
        "agent_id=2; agents[agent_id] = SimpleAgent(config[\"agent\"](agent_id, config[\"game_type\"])) \n",
        "agent_id=3; agents[agent_id] = OwnAgent(config[\"agent\"](agent_id, config[\"game_type\"]))\n",
        "\n",
        "env.set_agents(list(agents.values()))\n",
        "env.set_init_game_state(None)"
      ],
      "execution_count": 0,
      "outputs": []
    },
    {
      "metadata": {
        "id": "akQWnnHhmxv4",
        "colab_type": "text"
      },
      "cell_type": "markdown",
      "source": [
        "# Load file"
      ]
    },
    {
      "metadata": {
        "id": "-m8yobMbnplB",
        "colab_type": "code",
        "colab": {}
      },
      "cell_type": "code",
      "source": [
        "#buffer = io.BytesIO(uploaded[\"simple_master2.pth.tar\"])\n",
        "##print(buffer.getvalue())\n",
        "#agents[3].qnet.load_state_dict(torch.load(buffer))"
      ],
      "execution_count": 0,
      "outputs": []
    },
    {
      "metadata": {
        "id": "nJV7gRPgmJ8L",
        "colab_type": "text"
      },
      "cell_type": "markdown",
      "source": [
        "# START VALIDATION"
      ]
    },
    {
      "metadata": {
        "id": "nG_oAHcMEiG7",
        "colab_type": "code",
        "outputId": "1d3a9952-0ce0-40f6-bb4c-0bb29b92fb36",
        "colab": {
          "base_uri": "https://localhost:8080/",
          "height": 156
        }
      },
      "cell_type": "code",
      "source": [
        "from IPython.display import clear_output\n",
        "import time\n",
        "import copy\n",
        "\n",
        "num_episodes = 1000\n",
        "#epsilon = 1.0\n",
        "epsilon = 0\n",
        "episode_limit = 1000\n",
        "val_freq = 100\n",
        "\n",
        "shapedreward = RewardsShaper()\n",
        "rewards, lengths, losses, epsilons, wins, actionlog = [], [], [], [], [0] * num_episodes, []\n",
        "print('start training')\n",
        "for i in range(num_episodes):\n",
        "    # init new episode\n",
        "    env.set_init_game_state('initGameState.json')\n",
        "    s, ep_reward, ep_loss,suicide, ep_actions = env.reset(), 0, 0, 0, []\n",
        "    q_values = []\n",
        "    r = 0\n",
        "\n",
        "    for j in range(episode_limit):\n",
        "        actions = env.act(s)\n",
        "        s1, r, done, info = env.step(actions)\n",
        "        if(13 in s[3]['alive']):\n",
        "          shaped, suicide = shapedreward.run(s, actions, s1, done, info)\n",
        "        s = copy.deepcopy(s1)\n",
        "        if done: break\n",
        "        ep_actions.append(actions[3])\n",
        "# episode is finished \n",
        "    if(suicide>0):\n",
        "      print(\"s\",end=\"\")\n",
        "      wins.append(0)\n",
        "    elif(\"winners\" in info):\n",
        "      if(3 in info[\"winners\"]):\n",
        "        ep_reward += 1\n",
        "        wins.append(1)\n",
        "        print(\"w\",end=\"\")\n",
        "      else:\n",
        "        ep_reward -= 1\n",
        "        wins.append(0)\n",
        "        print(\".\",end=\"\")\n",
        "    else:\n",
        "        ep_reward -= 1\n",
        "        wins.append(0)\n",
        "        print(\".\",end=\"\")\n",
        "    actionlog.append(ep_actions)\n",
        "    if (i+1) % val_freq == 0:print('{:5d} and wins: {:5.2f}%'.format(i+1, np.mean(wins[-val_freq:])*100))\n",
        "print(\"END\")\n",
        "    "
      ],
      "execution_count": 0,
      "outputs": [
        {
          "output_type": "stream",
          "text": [
            "start training\n",
            "w.w..ss.wswwss.wsw..ws.sws.wssss.ssss.s..ss..ssss.w..s.swssw.sw..ss.s..ss..w.wwsw.w..s..ssw.sws.ss..s.s.s..s.sw.s.wwsw.w.s.ssww...ssws.s...sswss.sw.swsss.swssssws.ss.s.sws..sss.wwss.swsss.wsw.s.s..wss.sssssw.wsws....w.ss.s.s...w.ww..sswswsssw.s.w.wsw..ss.swsss.w.s.w.....ss.wss.ss.w..sss..w..s.....w.sssw...s.ws.sswsw.ws.ssswsws..sss.wwss.swwss..swwss...ssww...sss......s...wsws.ssssswsws.s.ss.sw.w..w..s....s..ssssw..s.w.ssss.ss.sw...ssssw.ss.wws.ss.swwssws.ww.ws.swwss.s.s..s..ssws.ss.sswsssssss.s.sss...s...wws.sss.sw...s......sswsw..w..sww.ws..sww.ww.sww.s.ws..ss..swsssw.ssss.sw.w.sww.....s......swsssw..ws.s...s...s.sss.w.wwssss...s.s.s.s..ww.s..sw.ss.ssssss.ssws.s.swwsswssswswwwswwssws.swss.s..w.sw.ss.ww.sssssw.s...w...wwss.ww.w.sssw..wwssss.ws..sws.ww..w..w..sww..s.sw.s.ww.wsss...s.s.ss..w....s......sssss...ssss.sws....w.sss..sw.wssw.s.wwws..s.w...ssw.w.ssssss.ww.s.wwssw..ss.sss...sw..sw.wsw..sw..s.wssss....w...ssw.ss....sss.wsws..wss.ss.s.sws.sssssswsss.s....sw.w.sss....sw.w.ww.ss.sss 1000 mean training reward:   nan and wins: 17.00%\n",
            "END\n"
          ],
          "name": "stdout"
        },
        {
          "output_type": "stream",
          "text": [
            "/usr/local/lib/python3.6/dist-packages/numpy/core/fromnumeric.py:2957: RuntimeWarning: Mean of empty slice.\n",
            "  out=out, **kwargs)\n",
            "/usr/local/lib/python3.6/dist-packages/numpy/core/_methods.py:80: RuntimeWarning: invalid value encountered in double_scalars\n",
            "  ret = ret.dtype.type(ret / rcount)\n"
          ],
          "name": "stderr"
        }
      ]
    },
    {
      "metadata": {
        "id": "H_BMZWykQppI",
        "colab_type": "code",
        "outputId": "f60a101e-4b28-489b-f17c-3c0b5ce6353f",
        "colab": {
          "base_uri": "https://localhost:8080/",
          "height": 34
        }
      },
      "cell_type": "code",
      "source": [
        "text =\"w.w..ss.wswwss.wsw..ws.sws.wssss.ssss.s..ss..ssss.w..s.swssw.sw..ss.s..ss..w.wwsw.w..s..ssw.sws.ss..s.s.s..s.sw.s.wwsw.w.s.ssww...ssws.s...sswss.sw.swsss.swssssws.ss.s.sws..sss.wwss.swsss.wsw.s.s..wss.sssssw.wsws....w.ss.s.s...w.ww..sswswsssw.s.w.wsw..ss.swsss.w.s.w.....ss.wss.ss.w..sss..w..s.....w.sssw...s.ws.sswsw.ws.ssswsws..sss.wwss.swwss..swwss...ssww...sss......s...wsws.ssssswsws.s.ss.sw.w..w..s....s..ssssw..s.w.ssss.ss.sw...ssssw.ss.wws.ss.swwssws.ww.ws.swwss.s.s..s..ssws.ss.sswsssssss.s.sss...s...wws.sss.sw...s......sswsw..w..sww.ws..sww.ww.sww.s.ws..ss..swsssw.ssss.sw.w.sww.....s......swsssw..ws.s...s...s.sss.w.wwssss...s.s.s.s..ww.s..sw.ss.ssssss.ssws.s.swwsswssswswwwswwssws.swss.s..w.sw.ss.ww.sssssw.s...w...wwss.ww.w.sssw..wwssss.ws..sws.ww..w..w..sww..s.sw.s.ww.wsss...s.s.ss..w....s......sssss...ssss.sws....w.sss..sw.wssw.s.wwws..s.w...ssw.w.ssssss.ww.s.wwssw..ss.sss...sw..sw.wsw..sw..s.wssss....w...ssw.ss....sss.wsws..wss.ss.s.sws.sssssswsss.s....sw.w.sss....sw.w.ww.ss.sss\"\n",
        "print(\"percent killed: \", (text.count(\".\")/1000)*100, \"%\", \"percent suicide: \", (text.count(\"s\")/1000)*100, \"%\", \"percent win!: \", (text.count(\"w\")/1000)*100, \"%\")"
      ],
      "execution_count": 0,
      "outputs": [
        {
          "output_type": "stream",
          "text": [
            "percent killed:  38.3 % percent suicide:  41.3 % percent win!:  20.4 %\n"
          ],
          "name": "stdout"
        }
      ]
    },
    {
      "metadata": {
        "id": "3kpPiaJEqCES",
        "colab_type": "code",
        "colab": {}
      },
      "cell_type": "code",
      "source": [
        "## if there is an error resize the wins and num_episodes to still be able to pring\n",
        "if(len(rewards)!=num_episodes):\n",
        "  new_lenght = len(rewards)\n",
        "  num_episodes = new_lenght\n",
        "  wins = wins[:new_lenght]"
      ],
      "execution_count": 0,
      "outputs": []
    },
    {
      "metadata": {
        "id": "zEH8aJ05tTAu",
        "colab_type": "text"
      },
      "cell_type": "markdown",
      "source": [
        "# Plot results"
      ]
    },
    {
      "metadata": {
        "id": "Yi_ozobFBx6I",
        "colab_type": "code",
        "outputId": "b1c5d3fc-d4a3-4f15-d3c6-47e72ff3ae1f",
        "colab": {
          "base_uri": "https://localhost:8080/",
          "height": 914
        }
      },
      "cell_type": "code",
      "source": [
        "# plot results\n",
        "\n",
        "def moving_average(a, n=10) :\n",
        "    ret = np.cumsum(a, dtype=float)\n",
        "    ret[n:] = ret[n:] - ret[:-n]\n",
        "    return ret / n\n",
        "\n",
        "plt.figure(figsize=(16, 9))\n",
        "\n",
        "plt.subplot(511)\n",
        "plt.title('training rewards')\n",
        "plt.plot(range(1, num_episodes+1), rewards)\n",
        "plt.plot(range(1, num_episodes+1), moving_average(rewards))\n",
        "plt.xlim([0, num_episodes])\n",
        "\n",
        "plt.subplot(512)\n",
        "plt.title('wins')\n",
        "plt.plot(range(1, num_episodes+1), wins)\n",
        "plt.plot(range(1, num_episodes+1), moving_average(wins))\n",
        "plt.xlim([0, num_episodes])\n",
        "\n",
        "plt.subplot(513)\n",
        "plt.title('training lengths')\n",
        "plt.plot(range(1, num_episodes+1), lengths)\n",
        "plt.plot(range(1, num_episodes+1), moving_average(lengths))\n",
        "plt.xlim([0, num_episodes])\n",
        "\n",
        "plt.subplot(514)\n",
        "plt.title('training loss')\n",
        "plt.plot(range(1, num_episodes+1), losses)\n",
        "plt.plot(range(1, num_episodes+1), moving_average(losses))\n",
        "plt.xlim([0, num_episodes])\n",
        "\n",
        "plt.subplot(515)\n",
        "plt.title('epsilon')\n",
        "plt.plot(range(1, num_episodes+1), epsilons)\n",
        "plt.xlim([0, num_episodes])\n",
        "\n",
        "plt.tight_layout(); plt.show()\n",
        "\n",
        "import pandas as pd\n",
        "from collections import Counter\n",
        "\n",
        "size = len(actionlog)\n",
        "y = np.zeros((size,6))\n",
        "\n",
        "for i in range(size):\n",
        "  n = Counter(actionlog[i])\n",
        "  for j in range(6):\n",
        "    y[i][j] = n[j]\n",
        "    \n",
        "x = np.arange(size)\n",
        "df = pd.DataFrame(y, index=x)\n",
        "\n",
        "df = df.divide(df.sum(axis=1), axis=0)\n",
        "ax = df.plot(kind='area', stacked=True, title='Actions over the episodes', figsize=(19.5, 2),legend = 'reverse')\n",
        "\n",
        "ax.set_xlabel('Episodes'); ax.set_ylabel('Percent (%)')\n",
        "ax.margins(0, 0) # Set margins to avoid \"whitespace\"\n",
        "\n",
        "plt.show()"
      ],
      "execution_count": 0,
      "outputs": [
        {
          "output_type": "stream",
          "text": [
            "/usr/local/lib/python3.6/dist-packages/matplotlib/axes/_base.py:2961: UserWarning: Attempting to set identical left==right results\n",
            "in singular transformations; automatically expanding.\n",
            "left=0, right=0\n",
            "  'left=%s, right=%s') % (left, right))\n"
          ],
          "name": "stderr"
        },
        {
          "output_type": "display_data",
          "data": {
            "image/png": "[encoded data removed]",
            "text/plain": [
              "<matplotlib.figure.Figure at 0x7fbcf20128d0>"
            ]
          },
          "metadata": {
            "tags": []
          }
        },
        {
          "output_type": "display_data",
          "data": {
            "image/png": "[encoded data removed]",
            "text/plain": [
              "<matplotlib.figure.Figure at 0x7fbd4e51c320>"
            ]
          },
          "metadata": {
            "tags": []
          }
        }
      ]
    },
    {
      "metadata": {
        "id": "geiZ1xxKm9D8",
        "colab_type": "text"
      },
      "cell_type": "markdown",
      "source": [
        "# Save file"
      ]
    },
    {
      "metadata": {
        "id": "eSOsK4vjm_NU",
        "colab_type": "code",
        "colab": {}
      },
      "cell_type": "code",
      "source": [
        "#from google.colab import files\n",
        "#torch.save(agents[3].qnet.state_dict(), \"simple_master2.pth.tar\")\n",
        "#files.download( \"simple_master2.pth.tar\" ) "
      ],
      "execution_count": 0,
      "outputs": []
    },
    {
      "metadata": {
        "id": "0mmYDUxBNYkK",
        "colab_type": "code",
        "colab": {}
      },
      "cell_type": "code",
      "source": [
        "from google.colab import files\n",
        "torch.save(agents[3].qnet.state_dict(), \"simple_master2.pth.tar\")\n",
        "files.download( \"simple_master2.pth.tar\" ) "
      ],
      "execution_count": 0,
      "outputs": []
    },
    {
      "metadata": {
        "id": "JXOMOfgknAXm",
        "colab_type": "text"
      },
      "cell_type": "markdown",
      "source": [
        "# Animation"
      ]
    },
    {
      "metadata": {
        "id": "juGMWJkmDPoe",
        "colab_type": "code",
        "outputId": "31f019dc-9cf9-4335-f6a8-a5f0db2a6a57",
        "colab": {
          "base_uri": "https://localhost:8080/",
          "height": 286
        }
      },
      "cell_type": "code",
      "source": [
        "lookup = ['Stop', 'Up', 'Down', 'Left', 'Right', 'Bomb']\n",
        "\n",
        "print(\"Last Episode\\n\")\n",
        "\n",
        "for i in range(len(actionlog[-1])):\n",
        "  print(\"Action and q_values: \\t {} \\t {} \\t {}\".format(lookup[actionlog[-1][i]], ep_actions[i], np.round_(q_values[i].data.cpu().numpy()) ))\n",
        "\n",
        "print(\"\\nLenght of this episode was {}\".format(len(actionlog[-1])))\n",
        "  \n",
        "print(\"\\nReward and loss for this episode was {} and {}\".format(rewards[-1],  round(losses[-1])))"
      ],
      "execution_count": 0,
      "outputs": [
        {
          "output_type": "stream",
          "text": [
            "Last Episode\n",
            "\n"
          ],
          "name": "stdout"
        },
        {
          "output_type": "error",
          "ename": "IndexError",
          "evalue": "ignored",
          "traceback": [
            "\u001b[0;31m---------------------------------------------------------------------------\u001b[0m",
            "\u001b[0;31mIndexError\u001b[0m                                Traceback (most recent call last)",
            "\u001b[0;32m<ipython-input-24-99177178fe13>\u001b[0m in \u001b[0;36m<module>\u001b[0;34m()\u001b[0m\n\u001b[1;32m      4\u001b[0m \u001b[0;34m\u001b[0m\u001b[0m\n\u001b[1;32m      5\u001b[0m \u001b[0;32mfor\u001b[0m \u001b[0mi\u001b[0m \u001b[0;32min\u001b[0m \u001b[0mrange\u001b[0m\u001b[0;34m(\u001b[0m\u001b[0mlen\u001b[0m\u001b[0;34m(\u001b[0m\u001b[0mactionlog\u001b[0m\u001b[0;34m[\u001b[0m\u001b[0;34m-\u001b[0m\u001b[0;36m1\u001b[0m\u001b[0;34m]\u001b[0m\u001b[0;34m)\u001b[0m\u001b[0;34m)\u001b[0m\u001b[0;34m:\u001b[0m\u001b[0;34m\u001b[0m\u001b[0;34m\u001b[0m\u001b[0m\n\u001b[0;32m----> 6\u001b[0;31m   \u001b[0mprint\u001b[0m\u001b[0;34m(\u001b[0m\u001b[0;34m\"Action and q_values: \\t {} \\t {} \\t {}\"\u001b[0m\u001b[0;34m.\u001b[0m\u001b[0mformat\u001b[0m\u001b[0;34m(\u001b[0m\u001b[0mlookup\u001b[0m\u001b[0;34m[\u001b[0m\u001b[0mactionlog\u001b[0m\u001b[0;34m[\u001b[0m\u001b[0;34m-\u001b[0m\u001b[0;36m1\u001b[0m\u001b[0;34m]\u001b[0m\u001b[0;34m[\u001b[0m\u001b[0mi\u001b[0m\u001b[0;34m]\u001b[0m\u001b[0;34m]\u001b[0m\u001b[0;34m,\u001b[0m \u001b[0mep_actions\u001b[0m\u001b[0;34m[\u001b[0m\u001b[0mi\u001b[0m\u001b[0;34m]\u001b[0m\u001b[0;34m,\u001b[0m \u001b[0mnp\u001b[0m\u001b[0;34m.\u001b[0m\u001b[0mround_\u001b[0m\u001b[0;34m(\u001b[0m\u001b[0mq_values\u001b[0m\u001b[0;34m[\u001b[0m\u001b[0mi\u001b[0m\u001b[0;34m]\u001b[0m\u001b[0;34m.\u001b[0m\u001b[0mdata\u001b[0m\u001b[0;34m.\u001b[0m\u001b[0mcpu\u001b[0m\u001b[0;34m(\u001b[0m\u001b[0;34m)\u001b[0m\u001b[0;34m.\u001b[0m\u001b[0mnumpy\u001b[0m\u001b[0;34m(\u001b[0m\u001b[0;34m)\u001b[0m\u001b[0;34m)\u001b[0m \u001b[0;34m)\u001b[0m\u001b[0;34m)\u001b[0m\u001b[0;34m\u001b[0m\u001b[0;34m\u001b[0m\u001b[0m\n\u001b[0m\u001b[1;32m      7\u001b[0m \u001b[0;34m\u001b[0m\u001b[0m\n\u001b[1;32m      8\u001b[0m \u001b[0mprint\u001b[0m\u001b[0;34m(\u001b[0m\u001b[0;34m\"\\nLenght of this episode was {}\"\u001b[0m\u001b[0;34m.\u001b[0m\u001b[0mformat\u001b[0m\u001b[0;34m(\u001b[0m\u001b[0mlen\u001b[0m\u001b[0;34m(\u001b[0m\u001b[0mactionlog\u001b[0m\u001b[0;34m[\u001b[0m\u001b[0;34m-\u001b[0m\u001b[0;36m1\u001b[0m\u001b[0;34m]\u001b[0m\u001b[0;34m)\u001b[0m\u001b[0;34m)\u001b[0m\u001b[0;34m)\u001b[0m\u001b[0;34m\u001b[0m\u001b[0;34m\u001b[0m\u001b[0m\n",
            "\u001b[0;31mIndexError\u001b[0m: list index out of range"
          ]
        }
      ]
    },
    {
      "metadata": {
        "id": "CgKQAqIA1WJi",
        "colab_type": "code",
        "outputId": "a08b1d51-2a77-4082-d177-b68f9ed2c5bf",
        "colab": {
          "base_uri": "https://localhost:8080/",
          "height": 34
        }
      },
      "cell_type": "code",
      "source": [
        "#print(np.round_(q_values.data.cpu().numpy()) )\n",
        "q_values"
      ],
      "execution_count": 0,
      "outputs": [
        {
          "output_type": "execute_result",
          "data": {
            "text/plain": [
              "[]"
            ]
          },
          "metadata": {
            "tags": []
          },
          "execution_count": 25
        }
      ]
    },
    {
      "metadata": {
        "id": "ZSIFN15Ne-W_",
        "colab_type": "code",
        "outputId": "26d39338-bc26-4eb0-840c-a5e80e965a36",
        "colab": {
          "base_uri": "https://localhost:8080/",
          "height": 204
        }
      },
      "cell_type": "code",
      "source": [
        "import emoji\n",
        "\n",
        "def myRender(stage):\n",
        "  for i in stage:\n",
        "    for j in i:\n",
        "      if(j==0): # free ground\n",
        "        j = emoji.emojize(\":white_question_mark:\")\n",
        "        #j = emoji.emojize(\":white_large_square:\")\n",
        "      elif(j==1): # stone wall\n",
        "        j = emoji.emojize(\":mountain:\")\n",
        "      elif(j==2): # wooden wall\n",
        "        j = emoji.emojize(\":seedling:\")\n",
        "      elif(j==3): # bomb\n",
        "        j = emoji.emojize(\":bomb:\")\n",
        "      elif(j==4): # fire     \n",
        "        j = emoji.emojize(\":fire:\")\n",
        "      # 5 is fog\n",
        "      \n",
        "      #power ups\n",
        "      elif(j==6): # extra bombs item     \n",
        "        j = emoji.emojize(\":pistol:\")\n",
        "      elif(j==7): # extra firepower     \n",
        "        j = emoji.emojize(\":collision:\")\n",
        "      elif(j==8): # kick     \n",
        "        j = emoji.emojize(\":running_shoe:\")\n",
        "      \n",
        "        \n",
        "      elif(j==10 or j==11 or j==12): #opponent\n",
        "        j = emoji.emojize(\":smiling_face_with_horns:\")\n",
        "      elif(j==13): #our agent\n",
        "        j = emoji.emojize(\":smiling_face_with_sunglasses:\")\n",
        "\n",
        "      print(j, end = \"\")\n",
        "    print(\"\")    \n",
        "\n",
        "this_stage = s[3]['board']\n",
        "myRender(this_stage)"
      ],
      "execution_count": 0,
      "outputs": [
        {
          "output_type": "stream",
          "text": [
            "❔⛰🌱🌱⛰⛰❔⛰🌱⛰❔\n",
            "⛰❔❔❔🌱🌱🌱❔❔❔⛰\n",
            "🌱❔❔❔🌱⛰⛰⛰⛰❔🌱\n",
            "🌱😈❔❔⛰❔🌱⛰🌱😎⛰\n",
            "⛰🌱🌱⛰❔❔⛰❔🌱🌱🌱\n",
            "⛰🌱⛰❔❔❔❔❔⛰🌱❔\n",
            "❔🌱⛰🌱⛰❔❔🌱⛰🌱🌱\n",
            "⛰❔⛰⛰❔❔🌱❔⛰❔⛰\n",
            "🌱❔⛰🌱🌱⛰⛰⛰❔❔❔\n",
            "⛰❔❔😈🌱🌱🌱❔❔❔🔫\n",
            "❔⛰🌱⛰🌱❔🌱⛰❔👟❔\n"
          ],
          "name": "stdout"
        }
      ]
    },
    {
      "metadata": {
        "id": "Vcr23-yEQpcy",
        "colab_type": "code",
        "outputId": "0040f7b4-3a7e-4870-db86-adfd1679260b",
        "colab": {
          "base_uri": "https://localhost:8080/",
          "height": 232
        }
      },
      "cell_type": "code",
      "source": [
        "from IPython.display import clear_output\n",
        "import time\n",
        "\n",
        "num_episodes = 1\n",
        "#epsilon = 1.0\n",
        "epsilon = 0\n",
        "shapedreward = RewardsShaper()\n",
        "\n",
        "rewards, lengths, losses, epsilons, wins, actionlog = [], [], [], [], [0] * num_episodes, []\n",
        "print('start training')\n",
        "for i in range(num_episodes):\n",
        "    # init new episode\n",
        "    s, ep_reward, ep_loss, ep_actions = env.reset(), 0, 0, []\n",
        "    q_values = []\n",
        "    r = 0\n",
        "\n",
        "    for j in range(episode_limit):\n",
        "        actions = env.act(s)\n",
        "        s1, r, done, info = env.step(actions)\n",
        "        \n",
        "        clear_output()\n",
        "        print(\"Round\",j)\n",
        "        myRender(s[3]['board'])  # Print the board at t\n",
        "        \n",
        "        print(actions[3],lookup[actions[3]]) #print action the agent takes\n",
        "        if(j!=0):\n",
        "          print(np.round_(agents[3].Q.data.cpu().numpy())) # print q values the action is based on\n",
        "          print(np.round_(agents[3].Q1.data.cpu().numpy())) # print q values from the t+1\n",
        "          print(loss.item())\n",
        "        print()\n",
        "        \n",
        "        #print(s[3])\n",
        "\n",
        "        \n",
        "        if(13 in s[3]['alive']):\n",
        "            #ep_actions.append(actions[3])\n",
        "            shaped = shapedreward.run(s, actions, s1, done, info)\n",
        "            ep_reward += shaped\n",
        "            r[3] += shaped\n",
        "            loss = agents[3].afterstep(s1[3], r[3], actions[3])\n",
        "\n",
        "            # 6. bookkeeping\n",
        "            ep_loss += loss.item()\n",
        "            q_values.append(agents[3].Q)\n",
        "        else:\n",
        "          done = True\n",
        "        \n",
        "        #if(j>10):\n",
        "        #  break\n",
        "        time.sleep(1.5)  \n",
        "        s = s1\n",
        "        if done: break\n",
        "\n",
        "    # episode is finished \n",
        "    if(\"winners\" in info):\n",
        "      if(3 in info[\"winners\"]):\n",
        "        ep_reward += 1\n",
        "        wins[i] = 1\n",
        "      else:\n",
        "        ep_reward -= 1\n",
        "\n",
        "    print(\".\",end=\"\")\n",
        "    print(\"episode reward was\",ep_reward)\n",
        "    "
      ],
      "execution_count": 0,
      "outputs": [
        {
          "output_type": "error",
          "ename": "NameError",
          "evalue": "ignored",
          "traceback": [
            "\u001b[0;31m---------------------------------------------------------------------------\u001b[0m",
            "\u001b[0;31mNameError\u001b[0m                                 Traceback (most recent call last)",
            "\u001b[0;32m<ipython-input-27-70c0d3ff5a81>\u001b[0m in \u001b[0;36m<module>\u001b[0;34m()\u001b[0m\n\u001b[1;32m      5\u001b[0m \u001b[0;31m#epsilon = 1.0\u001b[0m\u001b[0;34m\u001b[0m\u001b[0;34m\u001b[0m\u001b[0;34m\u001b[0m\u001b[0m\n\u001b[1;32m      6\u001b[0m \u001b[0mepsilon\u001b[0m \u001b[0;34m=\u001b[0m \u001b[0;36m0\u001b[0m\u001b[0;34m\u001b[0m\u001b[0;34m\u001b[0m\u001b[0m\n\u001b[0;32m----> 7\u001b[0;31m \u001b[0mshapedreward\u001b[0m \u001b[0;34m=\u001b[0m \u001b[0mRewardsShaper\u001b[0m\u001b[0;34m(\u001b[0m\u001b[0;34m)\u001b[0m\u001b[0;34m\u001b[0m\u001b[0;34m\u001b[0m\u001b[0m\n\u001b[0m\u001b[1;32m      8\u001b[0m \u001b[0;34m\u001b[0m\u001b[0m\n\u001b[1;32m      9\u001b[0m \u001b[0mrewards\u001b[0m\u001b[0;34m,\u001b[0m \u001b[0mlengths\u001b[0m\u001b[0;34m,\u001b[0m \u001b[0mlosses\u001b[0m\u001b[0;34m,\u001b[0m \u001b[0mepsilons\u001b[0m\u001b[0;34m,\u001b[0m \u001b[0mwins\u001b[0m\u001b[0;34m,\u001b[0m \u001b[0mactionlog\u001b[0m \u001b[0;34m=\u001b[0m \u001b[0;34m[\u001b[0m\u001b[0;34m]\u001b[0m\u001b[0;34m,\u001b[0m \u001b[0;34m[\u001b[0m\u001b[0;34m]\u001b[0m\u001b[0;34m,\u001b[0m \u001b[0;34m[\u001b[0m\u001b[0;34m]\u001b[0m\u001b[0;34m,\u001b[0m \u001b[0;34m[\u001b[0m\u001b[0;34m]\u001b[0m\u001b[0;34m,\u001b[0m \u001b[0;34m[\u001b[0m\u001b[0;36m0\u001b[0m\u001b[0;34m]\u001b[0m \u001b[0;34m*\u001b[0m \u001b[0mnum_episodes\u001b[0m\u001b[0;34m,\u001b[0m \u001b[0;34m[\u001b[0m\u001b[0;34m]\u001b[0m\u001b[0;34m\u001b[0m\u001b[0;34m\u001b[0m\u001b[0m\n",
            "\u001b[0;31mNameError\u001b[0m: name 'RewardsShaper' is not defined"
          ]
        }
      ]
    },
    {
      "metadata": {
        "id": "w9v8Hu_lDhRC",
        "colab_type": "code",
        "colab": {}
      },
      "cell_type": "code",
      "source": [
        "print(ep_reward)"
      ],
      "execution_count": 0,
      "outputs": []
    },
    {
      "metadata": {
        "id": "mL9i2njMSFwp",
        "colab_type": "code",
        "colab": {}
      },
      "cell_type": "code",
      "source": [
        ""
      ],
      "execution_count": 0,
      "outputs": []
    }
  ]
}